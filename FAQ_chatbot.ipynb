{
  "nbformat": 4,
  "nbformat_minor": 0,
  "metadata": {
    "colab": {
      "provenance": [],
      "gpuType": "T4"
    },
    "kernelspec": {
      "name": "python3",
      "display_name": "Python 3"
    },
    "language_info": {
      "name": "python"
    },
    "accelerator": "GPU"
  },
  "cells": [
    {
      "cell_type": "code",
      "execution_count": 1,
      "metadata": {
        "colab": {
          "base_uri": "https://localhost:8080/"
        },
        "id": "IDaQQYqAL4qF",
        "outputId": "25566713-f8f1-4fa6-e60e-dca73a473ef1"
      },
      "outputs": [
        {
          "output_type": "stream",
          "name": "stdout",
          "text": [
            "Requirement already satisfied: langchain==0.0.330 in /usr/local/lib/python3.10/dist-packages (0.0.330)\n",
            "Requirement already satisfied: PyYAML>=5.3 in /usr/local/lib/python3.10/dist-packages (from langchain==0.0.330) (6.0.1)\n",
            "Requirement already satisfied: SQLAlchemy<3,>=1.4 in /usr/local/lib/python3.10/dist-packages (from langchain==0.0.330) (2.0.30)\n",
            "Requirement already satisfied: aiohttp<4.0.0,>=3.8.3 in /usr/local/lib/python3.10/dist-packages (from langchain==0.0.330) (3.9.5)\n",
            "Requirement already satisfied: anyio<4.0 in /usr/local/lib/python3.10/dist-packages (from langchain==0.0.330) (3.7.1)\n",
            "Requirement already satisfied: async-timeout<5.0.0,>=4.0.0 in /usr/local/lib/python3.10/dist-packages (from langchain==0.0.330) (4.0.3)\n",
            "Requirement already satisfied: dataclasses-json<0.7,>=0.5.7 in /usr/local/lib/python3.10/dist-packages (from langchain==0.0.330) (0.6.6)\n",
            "Requirement already satisfied: jsonpatch<2.0,>=1.33 in /usr/local/lib/python3.10/dist-packages (from langchain==0.0.330) (1.33)\n",
            "Requirement already satisfied: langsmith<0.1.0,>=0.0.52 in /usr/local/lib/python3.10/dist-packages (from langchain==0.0.330) (0.0.92)\n",
            "Requirement already satisfied: numpy<2,>=1 in /usr/local/lib/python3.10/dist-packages (from langchain==0.0.330) (1.25.2)\n",
            "Requirement already satisfied: pydantic<3,>=1 in /usr/local/lib/python3.10/dist-packages (from langchain==0.0.330) (2.7.1)\n",
            "Requirement already satisfied: requests<3,>=2 in /usr/local/lib/python3.10/dist-packages (from langchain==0.0.330) (2.31.0)\n",
            "Requirement already satisfied: tenacity<9.0.0,>=8.1.0 in /usr/local/lib/python3.10/dist-packages (from langchain==0.0.330) (8.3.0)\n",
            "Requirement already satisfied: aiosignal>=1.1.2 in /usr/local/lib/python3.10/dist-packages (from aiohttp<4.0.0,>=3.8.3->langchain==0.0.330) (1.3.1)\n",
            "Requirement already satisfied: attrs>=17.3.0 in /usr/local/lib/python3.10/dist-packages (from aiohttp<4.0.0,>=3.8.3->langchain==0.0.330) (23.2.0)\n",
            "Requirement already satisfied: frozenlist>=1.1.1 in /usr/local/lib/python3.10/dist-packages (from aiohttp<4.0.0,>=3.8.3->langchain==0.0.330) (1.4.1)\n",
            "Requirement already satisfied: multidict<7.0,>=4.5 in /usr/local/lib/python3.10/dist-packages (from aiohttp<4.0.0,>=3.8.3->langchain==0.0.330) (6.0.5)\n",
            "Requirement already satisfied: yarl<2.0,>=1.0 in /usr/local/lib/python3.10/dist-packages (from aiohttp<4.0.0,>=3.8.3->langchain==0.0.330) (1.9.4)\n",
            "Requirement already satisfied: idna>=2.8 in /usr/local/lib/python3.10/dist-packages (from anyio<4.0->langchain==0.0.330) (3.7)\n",
            "Requirement already satisfied: sniffio>=1.1 in /usr/local/lib/python3.10/dist-packages (from anyio<4.0->langchain==0.0.330) (1.3.1)\n",
            "Requirement already satisfied: exceptiongroup in /usr/local/lib/python3.10/dist-packages (from anyio<4.0->langchain==0.0.330) (1.2.1)\n",
            "Requirement already satisfied: marshmallow<4.0.0,>=3.18.0 in /usr/local/lib/python3.10/dist-packages (from dataclasses-json<0.7,>=0.5.7->langchain==0.0.330) (3.21.2)\n",
            "Requirement already satisfied: typing-inspect<1,>=0.4.0 in /usr/local/lib/python3.10/dist-packages (from dataclasses-json<0.7,>=0.5.7->langchain==0.0.330) (0.9.0)\n",
            "Requirement already satisfied: jsonpointer>=1.9 in /usr/local/lib/python3.10/dist-packages (from jsonpatch<2.0,>=1.33->langchain==0.0.330) (2.4)\n",
            "Requirement already satisfied: annotated-types>=0.4.0 in /usr/local/lib/python3.10/dist-packages (from pydantic<3,>=1->langchain==0.0.330) (0.7.0)\n",
            "Requirement already satisfied: pydantic-core==2.18.2 in /usr/local/lib/python3.10/dist-packages (from pydantic<3,>=1->langchain==0.0.330) (2.18.2)\n",
            "Requirement already satisfied: typing-extensions>=4.6.1 in /usr/local/lib/python3.10/dist-packages (from pydantic<3,>=1->langchain==0.0.330) (4.11.0)\n",
            "Requirement already satisfied: charset-normalizer<4,>=2 in /usr/local/lib/python3.10/dist-packages (from requests<3,>=2->langchain==0.0.330) (3.3.2)\n",
            "Requirement already satisfied: urllib3<3,>=1.21.1 in /usr/local/lib/python3.10/dist-packages (from requests<3,>=2->langchain==0.0.330) (2.0.7)\n",
            "Requirement already satisfied: certifi>=2017.4.17 in /usr/local/lib/python3.10/dist-packages (from requests<3,>=2->langchain==0.0.330) (2024.2.2)\n",
            "Requirement already satisfied: greenlet!=0.4.17 in /usr/local/lib/python3.10/dist-packages (from SQLAlchemy<3,>=1.4->langchain==0.0.330) (3.0.3)\n",
            "Requirement already satisfied: packaging>=17.0 in /usr/local/lib/python3.10/dist-packages (from marshmallow<4.0.0,>=3.18.0->dataclasses-json<0.7,>=0.5.7->langchain==0.0.330) (24.0)\n",
            "Requirement already satisfied: mypy-extensions>=0.3.0 in /usr/local/lib/python3.10/dist-packages (from typing-inspect<1,>=0.4.0->dataclasses-json<0.7,>=0.5.7->langchain==0.0.330) (1.0.0)\n",
            "Requirement already satisfied: openai==0.28.1 in /usr/local/lib/python3.10/dist-packages (0.28.1)\n",
            "Requirement already satisfied: requests>=2.20 in /usr/local/lib/python3.10/dist-packages (from openai==0.28.1) (2.31.0)\n",
            "Requirement already satisfied: tqdm in /usr/local/lib/python3.10/dist-packages (from openai==0.28.1) (4.66.4)\n",
            "Requirement already satisfied: aiohttp in /usr/local/lib/python3.10/dist-packages (from openai==0.28.1) (3.9.5)\n",
            "Requirement already satisfied: charset-normalizer<4,>=2 in /usr/local/lib/python3.10/dist-packages (from requests>=2.20->openai==0.28.1) (3.3.2)\n",
            "Requirement already satisfied: idna<4,>=2.5 in /usr/local/lib/python3.10/dist-packages (from requests>=2.20->openai==0.28.1) (3.7)\n",
            "Requirement already satisfied: urllib3<3,>=1.21.1 in /usr/local/lib/python3.10/dist-packages (from requests>=2.20->openai==0.28.1) (2.0.7)\n",
            "Requirement already satisfied: certifi>=2017.4.17 in /usr/local/lib/python3.10/dist-packages (from requests>=2.20->openai==0.28.1) (2024.2.2)\n",
            "Requirement already satisfied: aiosignal>=1.1.2 in /usr/local/lib/python3.10/dist-packages (from aiohttp->openai==0.28.1) (1.3.1)\n",
            "Requirement already satisfied: attrs>=17.3.0 in /usr/local/lib/python3.10/dist-packages (from aiohttp->openai==0.28.1) (23.2.0)\n",
            "Requirement already satisfied: frozenlist>=1.1.1 in /usr/local/lib/python3.10/dist-packages (from aiohttp->openai==0.28.1) (1.4.1)\n",
            "Requirement already satisfied: multidict<7.0,>=4.5 in /usr/local/lib/python3.10/dist-packages (from aiohttp->openai==0.28.1) (6.0.5)\n",
            "Requirement already satisfied: yarl<2.0,>=1.0 in /usr/local/lib/python3.10/dist-packages (from aiohttp->openai==0.28.1) (1.9.4)\n",
            "Requirement already satisfied: async-timeout<5.0,>=4.0 in /usr/local/lib/python3.10/dist-packages (from aiohttp->openai==0.28.1) (4.0.3)\n",
            "Requirement already satisfied: faiss-cpu in /usr/local/lib/python3.10/dist-packages (1.8.0)\n",
            "Requirement already satisfied: numpy in /usr/local/lib/python3.10/dist-packages (from faiss-cpu) (1.25.2)\n"
          ]
        }
      ],
      "source": [
        "!pip install langchain==0.0.330\n",
        "!pip install openai==0.28.1\n",
        "!pip install faiss-cpu\n"
      ]
    },
    {
      "cell_type": "code",
      "source": [
        "import os\n",
        "from langchain.embeddings.openai import OpenAIEmbeddings\n",
        "from langchain.text_splitter import CharacterTextSplitter\n",
        "from langchain.vectorstores import FAISS\n",
        "from langchain.chains.question_answering import load_qa_chain\n",
        "from langchain.chat_models import ChatOpenAI\n",
        "from langchain import PromptTemplate"
      ],
      "metadata": {
        "id": "NdGgPaa7L5Xy"
      },
      "execution_count": 2,
      "outputs": []
    },
    {
      "cell_type": "code",
      "source": [
        "# # api_key = os.environ.get('OPENAI_API_KEY')\n",
        "from google.colab import userdata\n",
        "os.environ['OPENAI_API_KEY'] = userdata.get('OPENAI_API_KEY')\n",
        "\n",
        "\n"
      ],
      "metadata": {
        "id": "MEvH33RsMLao"
      },
      "execution_count": 3,
      "outputs": []
    },
    {
      "cell_type": "code",
      "source": [],
      "metadata": {
        "id": "7ZWAk8tOOCLy"
      },
      "execution_count": 3,
      "outputs": []
    },
    {
      "cell_type": "code",
      "source": [
        "# Define the FAQ content\n",
        "faq_content = \"\"\"\n",
        "1. What is silk?\n",
        "Silk is a continuous protein filament secreted by specific types of caterpillars known as 'Silk Worms'.\n",
        "\n",
        "2. What are the properties of silk?\n",
        "Silk has best properties like, drape, light weight, Natural sheen, inherent affinity for rich colors, high moisture absorbance, resilience and excellent drape making it the ‘Queen of textiles’.\n",
        "\n",
        "3. What are different types of silks available in India?\n",
        "Different types of silks produced in India are Mulberry Silk (Karnataka, Andhra Pradesh, Tamil Nadu, J&K) Tassar Silk (Chattisghar, Madhyapradesh, Maharashtra, Telangana, West Bengal), Eri Silk (Assam and other N Eastern states) & Muga Silk (Assam).\n",
        "\n",
        "4. Can we identify silk by a feel of touch?\n",
        "It is very difficult to identify silk just by look and feel.\n",
        "\n",
        "5. What is the best way to identify silk?\n",
        "Silk is a protein fiber. When we closely observe, the smell of a burnt thread of silk, it is like smell of a burnt hair. In short, both burnt silk and burnt human hair have same smell.\n",
        "\n",
        "6. What is Silk Mark label?\n",
        "Silk Mark label is affixed on only 100% pure silk products by Silk Mark Authorised Users to protect the interest of silk consumers.\n",
        "\n",
        "7. How to identify Silk Mark label?\n",
        "Please watch https://youtu.be/Mq10TkRZTcY\n",
        "\n",
        "8. What is the price of Silk Mark labels?\n",
        "At present the price of one Silk Mark label is ₹5.90 (incl. of taxes)\n",
        "\n",
        "9. How do consumers benefit by Silk Mark?\n",
        "By purchasing Silk Mark labeled products from the sellers who are Authorised Users of Silk Mark, Consumers get an assurance of purchasing 100% Natural silk products.\n",
        "\n",
        "10. What are the benefits of becoming a Silk Mark member?\n",
        "1. Can gain the confidence of elite silk consumers\n",
        "2. Cost effective publicity through SMOI\n",
        "3. Can participate in Silk Mark expos across the country\n",
        "\n",
        "11. How to become a Silk Mark member?\n",
        "Visit www.silkmarkindia.com or contact nearest Silk Mark office\n",
        "\n",
        "12. What if Silk Mark label is misused?\n",
        "If an Authorised User sells non-silk products as 100% Natural Silk with Silk Mark label, initially notice will be given and if repeated the membership will be cancelled. The firm or company will be notified in leading newspapers about the misuse.\n",
        "\n",
        "13. How are consumers protected in case of misuse of Silk Mark labels?\n",
        "SMOI will facilitate the consumer in replacement or refund and also in pursuing legal redressal in consumer courts.\n",
        "\n",
        "14. Can the Silk Mark label be duplicated?\n",
        "For a given safety measures like Hologram, Unique Serial Number and QR Code, it is very difficult to make duplicate Silk Mark labels.\n",
        "\n",
        "15. Does Silk Mark assure the purity/quality of zari?\n",
        "No, Silk Mark assures only products with 100% pure silk.\n",
        "\n",
        "16. Where do we get Silk Mark labeled products?\n",
        "Silk Mark authorized weavers, manufacturers, retailers, showrooms and boutiques sell Silk Mark labeled products.\n",
        "\n",
        "17. Where do we get 100% pure and genuine natural silk products?\n",
        "Visit Silk Mark authorized outlets.\n",
        "\n",
        "18. Where is the shop of Silk Mark organisation of India?\n",
        "Silk Mark Organisation of India neither manufactures nor sells any silk products. SMOI does not have its own showroom or shop.\n",
        "\n",
        "19. How to search for Silk Mark authorized outlets?\n",
        "One can visit www.silkmarkindia.com and click on ‘authorized outlets’ button to search weavers, manufacturers, retailers, showrooms & boutiques selling 100% pure silk products with Silk Mark assurance.\n",
        "\n",
        "20. Can we buy 100% pure silks online?\n",
        "Yes. One can buy 100% pure silks online. However, ensure presence of Silk Mark labels on the products and collect the original bill/receipt.\n",
        "\n",
        "21. Can we participate in the Silk Mark exhibitions?\n",
        "Yes, an Authorized User of Silk Mark can participate in the Silk Mark Exhibitions across the country. However, stalls will be allotted on payment of prescribed Stall Rent.\n",
        "\n",
        "22. Can we get our silk material tested for purity?\n",
        "Yes, at SMOI offices and silk testing centers across the country.\n",
        "\n",
        "23. Where can we get our silk material tested for purity?\n",
        "Please visit silk testing centers/ Silk Mark offices detailed in www.silkmarkindia.com.\n",
        "\n",
        "24. What is the lifespan of a silk sari?\n",
        "If advised care is taken in a proper way, a silk sari can last for generations.\n",
        "\"\"\""
      ],
      "metadata": {
        "id": "d3gTQVUWMwI7"
      },
      "execution_count": 15,
      "outputs": []
    },
    {
      "cell_type": "code",
      "source": [
        "# Split the text into chunks\n",
        "text_splitter = CharacterTextSplitter(\n",
        "    separator=\"\\n\",\n",
        "    chunk_size=1000,\n",
        "    chunk_overlap=200,\n",
        "    length_function=len\n",
        ")\n",
        "texts = text_splitter.split_text(faq_content)"
      ],
      "metadata": {
        "id": "XLM1bYnWOidf"
      },
      "execution_count": 16,
      "outputs": []
    },
    {
      "cell_type": "code",
      "source": [
        "# Generate embeddings\n",
        "embeddings = OpenAIEmbeddings()"
      ],
      "metadata": {
        "id": "DNP6ylrROk_W"
      },
      "execution_count": 17,
      "outputs": []
    },
    {
      "cell_type": "code",
      "source": [
        "# Create a FAISS vector store from the texts and embeddings\n",
        "%pip install tiktoken\n",
        "docsearch = FAISS.from_texts(texts, embeddings)"
      ],
      "metadata": {
        "colab": {
          "base_uri": "https://localhost:8080/"
        },
        "id": "5-9JOHlQOm9J",
        "outputId": "87306347-4ee9-43f4-84a0-a35f8f832902"
      },
      "execution_count": 18,
      "outputs": [
        {
          "output_type": "stream",
          "name": "stdout",
          "text": [
            "Requirement already satisfied: tiktoken in /usr/local/lib/python3.10/dist-packages (0.7.0)\n",
            "Requirement already satisfied: regex>=2022.1.18 in /usr/local/lib/python3.10/dist-packages (from tiktoken) (2024.5.15)\n",
            "Requirement already satisfied: requests>=2.26.0 in /usr/local/lib/python3.10/dist-packages (from tiktoken) (2.31.0)\n",
            "Requirement already satisfied: charset-normalizer<4,>=2 in /usr/local/lib/python3.10/dist-packages (from requests>=2.26.0->tiktoken) (3.3.2)\n",
            "Requirement already satisfied: idna<4,>=2.5 in /usr/local/lib/python3.10/dist-packages (from requests>=2.26.0->tiktoken) (3.7)\n",
            "Requirement already satisfied: urllib3<3,>=1.21.1 in /usr/local/lib/python3.10/dist-packages (from requests>=2.26.0->tiktoken) (2.0.7)\n",
            "Requirement already satisfied: certifi>=2017.4.17 in /usr/local/lib/python3.10/dist-packages (from requests>=2.26.0->tiktoken) (2024.2.2)\n"
          ]
        }
      ]
    },
    {
      "cell_type": "code",
      "source": [
        "# Define the prompt template\n",
        "template = \"\"\"Answer the question based on the context below. If the question cannot be answered using the information provided answer with \"I don't know.For detailed information, please visit the official [Silk Mark website](www.silkmarkindia.com) or contact Silk Mark offices directly\".\n",
        "\n",
        "Context: {context}\n",
        "\n",
        "Question: {query}\n",
        "\n",
        "Answer: For detailed information on the history and establishment of Silk Mark, please visit the official [Silk Mark website](www.silkmarkindia.com) or contact Silk Mark offices directly.\n",
        "\n",
        "Website: www.silkmarkindia.com\n",
        "Contact Info: [Insert Contact Information Here]\n",
        "\n",
        "\"\"\""
      ],
      "metadata": {
        "id": "zx1akbJlPXYr"
      },
      "execution_count": 19,
      "outputs": []
    },
    {
      "cell_type": "code",
      "source": [
        "prompt_template = PromptTemplate(\n",
        "    input_variables=[\"context\", \"query\"],\n",
        "    template=template\n",
        ")\n",
        "\n",
        "# Initialize the language model\n",
        "llm = ChatOpenAI(model=\"gpt-3.5-turbo\", temperature=0.7)"
      ],
      "metadata": {
        "id": "vy4JoNGjQJgk"
      },
      "execution_count": 20,
      "outputs": []
    },
    {
      "cell_type": "code",
      "source": [
        "chain = load_qa_chain(llm, chain_type=\"stuff\")"
      ],
      "metadata": {
        "id": "LD2phbeoQNKU"
      },
      "execution_count": 21,
      "outputs": []
    },
    {
      "cell_type": "code",
      "source": [
        "def chat():\n",
        "    print(\"🪡 Welcome to the Silk FAQ chatbot! How can I assist you today?\")\n",
        "    while True:\n",
        "        user_input = input(\"You: \").strip().lower()\n",
        "        if user_input == \"exit\" or user_input == \"bye\":\n",
        "            print(\"Goodbye!\")\n",
        "            break\n",
        "        # Perform similarity search\n",
        "        docs = docsearch.similarity_search(user_input)\n",
        "        # Run the chain to get the answer\n",
        "        response = chain.run(input_documents=docs, question=user_input)\n",
        "        print(f\"🤖: {response}\")"
      ],
      "metadata": {
        "id": "o2umP1t0QQ42"
      },
      "execution_count": 31,
      "outputs": []
    },
    {
      "cell_type": "code",
      "source": [
        "chat()"
      ],
      "metadata": {
        "colab": {
          "base_uri": "https://localhost:8080/"
        },
        "id": "_8n7R8heQTMx",
        "outputId": "915c9d9a-2f3d-47be-cf2a-a07ca81937a0"
      },
      "execution_count": 33,
      "outputs": [
        {
          "output_type": "stream",
          "name": "stdout",
          "text": [
            "🪡 Welcome to the Silk FAQ chatbot! How can I assist you today?\n",
            "You: what is silk\n",
            "🤖: Silk is a continuous protein filament secreted by specific types of caterpillars known as 'Silk Worms'. It is a natural fiber known for its luxurious feel and sheen, often referred to as the 'Queen of textiles'.\n",
            "You: silk mark\n",
            "🤖: Silk Mark is a label affixed to 100% pure silk products by Silk Mark Authorised Users to protect the interests of silk consumers. It assures consumers that they are purchasing genuine silk products. You can identify Silk Mark labeled products by looking for the label itself or by visiting the Silk Mark authorized outlets.\n",
            "You: hey\n",
            "🤖: Hello! How can I assist you today?\n",
            "You: what is silk mart\n",
            "🤖: I don't have information on \"silk mart.\" If you meant \"Silk Mark,\" it is a certification label affixed to 100% pure silk products by Silk Mark Authorised Users to assure consumers of the purity of the silk. Let me know if you need more information on Silk Mark.\n",
            "You: properties of silk\n",
            "🤖: Silk has properties like drape, light weight, natural sheen, high moisture absorbance, resilience, and excellent drape. It is known as the 'Queen of textiles' due to these characteristics.\n",
            "You: what are outlets\n",
            "🤖: Outlets refer to stores, showrooms, boutiques, or retailers where products are sold. In the context of Silk Mark, outlets are places authorized by Silk Mark Organization of India where consumers can purchase 100% pure silk products labeled with Silk Mark assurance. These outlets can include weavers, manufacturers, retailers, showrooms, and boutiques.\n",
            "You: can i use silk mark reference\n",
            "🤖: Yes, you can use Silk Mark as a reference for authenticating 100% pure silk products.\n",
            "You: thanks\n",
            "🤖: You're welcome! If you have any more questions or need further information, feel free to ask.\n",
            "You: bye\n",
            "Goodbye!\n"
          ]
        }
      ]
    },
    {
      "cell_type": "code",
      "source": [],
      "metadata": {
        "id": "fSgJSqJEQUqN"
      },
      "execution_count": null,
      "outputs": []
    }
  ]
}